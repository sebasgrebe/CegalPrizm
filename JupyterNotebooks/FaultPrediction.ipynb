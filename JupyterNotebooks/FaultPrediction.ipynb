{
 "cells": [
  {
   "cell_type": "code",
   "execution_count": 4,
   "id": "e9d20372-9018-4aad-a1e2-7f856f060a61",
   "metadata": {
    "tags": []
   },
   "outputs": [],
   "source": [
    "from cegalprizm.pycoderunner import WorkflowDescription"
   ]
  },
  {
   "cell_type": "code",
   "execution_count": 5,
   "id": "d1fb79f0-2e2b-4f36-af7c-d781753f86da",
   "metadata": {},
   "outputs": [],
   "source": [
    "# Start: PWR Description\n",
    "\n",
    "\n",
    "\n",
    "pwr_description = WorkflowDescription(name=\"Fault prediction\",\n",
    "                                      category=\"Seismic interpretation ML\",\n",
    "                                      description=\"Use this workflow to create a  fault model\",\n",
    "                                      authors=\"sebastian.grebe@cegal.com\",\n",
    "                                      version=\"0.1\")\n",
    "\n",
    "\n",
    "pwr_description.add_string_parameter(\"string_value\", \"String Value2\", \"A string input\", \"hello\")\n",
    "pwr_description.add_object_ref_parameter('seismic_id','seismic','Select a seismic cube','seismic_3d')\n",
    "#pwr_description.add_object_ref_parameter(\"borehole_id2\", \"Borehol2e\", \"A borehole\", \"boreholes\")\n",
    "#pwr_description.add_object_ref_parameter(\"seis_horizon\", \"Horizon\", \"A horizon\", \"seismic_horizon\")\n",
    "\n",
    "\n",
    "# End: PWR Description"
   ]
  },
  {
   "cell_type": "code",
   "execution_count": null,
   "id": "649c90c4-b73e-4470-9d50-33af35e4abbe",
   "metadata": {},
   "outputs": [],
   "source": [
    "if 'parameters' not in locals() and 'parameters' not in globals():\n",
    "    parameters = pwr_description.get_default_parameters()"
   ]
  },
  {
   "cell_type": "code",
   "execution_count": 2,
   "id": "d1b4d718-d19c-4bed-9c70-d1cad1140099",
   "metadata": {
    "tags": []
   },
   "outputs": [],
   "source": [
    "\n",
    "import math\n",
    "from tensorflow.keras.models import load_model, model_from_json\n",
    "import numpy as np\n",
    "import tensorflow as tf\n",
    "import os\n",
    "import numpy as np"
   ]
  },
  {
   "cell_type": "code",
   "execution_count": null,
   "id": "f2ea446d-0859-4d23-8a5d-fa47ef66f721",
   "metadata": {},
   "outputs": [],
   "source": [
    "from cegalprizm.pythontool import PetrelConnection\n",
    "\n",
    "ptp = PetrelConnection()\n",
    "\n",
    "petrel_objects = ptp.get_petrelobjects_by_guids([parameters['seismic_id']])"
   ]
  },
  {
   "cell_type": "code",
   "execution_count": null,
   "id": "e6f72bd2-998f-45a4-971b-4e3b775b1305",
   "metadata": {},
   "outputs": [],
   "source": [
    "cube=petrel_objects[0]"
   ]
  },
  {
   "cell_type": "code",
   "execution_count": null,
   "id": "e05dae9d-38bd-47d0-8c57-351473510d59",
   "metadata": {},
   "outputs": [],
   "source": [
    "span = 127\n",
    "x = int((cube.extent.i - 128)/2)\n",
    "y = int((cube.extent.j - 128)/2)\n",
    "z = int((cube.extent.k - 128)/2)\n",
    "arr  = cube.chunk((x,x+span),(y,y+span),(z,z+span)).as_array()\n",
    "\n",
    "loaded_model = load_model(\"fseg-70.hdf5\", custom_objects={'cross_entropy_balanced': tf.keras.losses.BinaryCrossentropy()})\n",
    "\n",
    "def fault_attribute_calculator(arr):\n",
    "    arr = np.rot90(arr, 1, (0,2))\n",
    "    arr = (arr - arr.mean())/arr.std()\n",
    "    n1, n2, n3 = 128, 128, 128\n",
    "    gx = np.reshape(arr,(1,n1,n2,n3,1))\n",
    "    Y = loaded_model.predict(gx,verbose=1)\n",
    "    Y = Y.reshape((n1,n2,n3))\n",
    "    return np.rot90(Y, -1, (0,2))\n",
    "\n",
    "faults = fault_attribute_calculator(arr)"
   ]
  },
  {
   "cell_type": "code",
   "execution_count": null,
   "id": "014f0f96-900e-43fd-911e-5d6c9a35b5c7",
   "metadata": {},
   "outputs": [],
   "source": [
    "cube_fault_prediction = cube.clone('cube_fault_prediction_demo_new', copy_values = False)"
   ]
  },
  {
   "cell_type": "code",
   "execution_count": null,
   "id": "54709ae4-1e95-4dda-9525-9bec8808ff57",
   "metadata": {},
   "outputs": [],
   "source": [
    "a = 0.5\n",
    "overlapp = 0.1\n",
    "def apply_calculator(src_cube, dst_cube, calculator, chunk_size = (128,128,128)):\n",
    "    m1, m2, m3 = src_cube.extent.i, src_cube.extent.j, src_cube.extent.k\n",
    "    n1, n2, n3 = chunk_size\n",
    "    \n",
    "    x_count = math.ceil(2*m1/n1)\n",
    "    y_count = math.ceil(2*m2/n2)\n",
    "    \n",
    "    z_count = math.ceil(2*m3/n3)\n",
    "    for x in range(x_count):\n",
    "        if ( x*(n1/(1+overlapp)) > (m1 - n1/2 -1)):\n",
    "              continue\n",
    "        for y in range(y_count):\n",
    "            if (y*(n2/(1+overlapp)) > (m2 - n2/2 -1)):\n",
    "                continue\n",
    "            for z in range(z_count):\n",
    "                if (z*(n3/(1+overlapp)) > (m3 - n3/2 -1) ):\n",
    "                      continue\n",
    "                x_offset = math.floor(min(x*(n1/(1+overlapp)), m1 - n1 -1))\n",
    "                y_offset = math.floor(min(y*(n2/(1+overlapp)), m2 - n2 -1))\n",
    "                z_offset = math.floor(min(z*(n3/(1+overlapp)), m3 - n3 -1))\n",
    "                x_range = (x_offset + 1, x_offset+n1)\n",
    "                y_range = (y_offset + 1, y_offset+n2)\n",
    "                z_range = (z_offset + 1, z_offset+n3)\n",
    "                src_data = src_cube.chunk(x_range, y_range, z_range).as_array()\n",
    "                with dst_cube.chunk(x_range, y_range, z_range).values() as dst:\n",
    "                    result = calculator(src_data)\n",
    "                    mask = (dst == 0)\n",
    "                    dst[mask] = result[mask]\n",
    "                    dst[2:-2,2:-2,2:-2] = a*result[2:-2,2:-2,2:-2] + (1-a)*dst[2:-2,2:-2,2:-2]\n"
   ]
  },
  {
   "cell_type": "code",
   "execution_count": null,
   "id": "3b4bdf76-f59f-4264-acc0-1e6e10fb3269",
   "metadata": {},
   "outputs": [],
   "source": [
    "apply_calculator(cube, cube_fault_prediction, fault_attribute_calculator)"
   ]
  }
 ],
 "metadata": {
  "kernelspec": {
   "display_name": "Python 3 (ipykernel)",
   "language": "python",
   "name": "python3"
  },
  "language_info": {
   "codemirror_mode": {
    "name": "ipython",
    "version": 3
   },
   "file_extension": ".py",
   "mimetype": "text/x-python",
   "name": "python",
   "nbconvert_exporter": "python",
   "pygments_lexer": "ipython3",
   "version": "3.9.13"
  }
 },
 "nbformat": 4,
 "nbformat_minor": 5
}
