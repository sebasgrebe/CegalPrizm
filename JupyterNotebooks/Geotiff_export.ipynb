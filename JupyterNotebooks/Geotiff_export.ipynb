{
 "cells": [
  {
   "cell_type": "markdown",
   "id": "f4590a28-0e45-4877-b92e-33163b56614f",
   "metadata": {},
   "source": [
    "# Create Tiff file from Petrel data using Python Tool Pro"
   ]
  },
  {
   "cell_type": "code",
   "execution_count": 1,
   "id": "d72ed282-bd54-4e8a-bbcf-002d856fb1ef",
   "metadata": {},
   "outputs": [],
   "source": [
    "from cegalprizm.scripting_server import WorkflowDescription"
   ]
  },
  {
   "cell_type": "code",
   "execution_count": 2,
   "id": "c223532b-817f-4b73-925c-78049c330b80",
   "metadata": {},
   "outputs": [],
   "source": [
    "# Start: PWR Description\n",
    "\n",
    "\n",
    "\n",
    "pwr_description = WorkflowDescription(name=\"Export Geotiff files\",\n",
    "                                      category=\"GIS\",\n",
    "                                      description=\"Use this workflow to create a Geotiff file of a seismic horizon attribute\",\n",
    "                                      authors=\"sebastian.grebe@cegal.com\",\n",
    "                                      version=\"0.1\")\n",
    "\n",
    "\n",
    "pwr_description.add_string_parameter(\"string_value\", \"String Value2\", \"A string input\", \"hello\")\n",
    "pwr_description.add_object_ref_parameter(name='horizon_interpretation',label='Seismic horizon',description='Select a seismic horizon',object_name='horizon_interpretation')\n",
    "\n",
    "\n",
    "\n",
    "# End: PWR Description\n"
   ]
  },
  {
   "cell_type": "code",
   "execution_count": null,
   "id": "8a374cac-8695-4a6d-8a5c-185cbc5e4582",
   "metadata": {},
   "outputs": [],
   "source": [
    "if 'parameters' not in locals() and 'parameters' not in globals():\n",
    "    parameters = pwr_description.get_default_parameters()"
   ]
  },
  {
   "cell_type": "code",
   "execution_count": null,
   "id": "3f384c4c-dece-4a96-a07d-8aed77e87501",
   "metadata": {},
   "outputs": [],
   "source": [
    "import geopandas as gpd\n",
    "from geocube.api.core import make_geocube"
   ]
  },
  {
   "cell_type": "code",
   "execution_count": null,
   "id": "bb4170fd-1c5a-4b62-a103-f7255308401d",
   "metadata": {},
   "outputs": [],
   "source": [
    "from cegalprizm.pythontool import PetrelConnection\n",
    "\n",
    "ptp = PetrelConnection()\n",
    "\n",
    "petrel_objects = ptp.get_petrelobjects_by_guids([parameters['horizon_interpretation']])"
   ]
  },
  {
   "cell_type": "code",
   "execution_count": null,
   "id": "8ab87476-3120-407e-bfd9-b521384f2268",
   "metadata": {},
   "outputs": [],
   "source": [
    "var=petrel_objects[0]\n",
    "myvar2=[i for i in var.horizon_interpretation_3ds][0]\n",
    "print(myvar2.petrel_name)\n",
    "myvar3=[i for i in myvar2.horizon_property_3ds][0]\n",
    "print(myvar3.petrel_name)"
   ]
  },
  {
   "cell_type": "code",
   "execution_count": null,
   "id": "5fc89316-7b29-46ca-988f-bc89706de7b1",
   "metadata": {},
   "outputs": [],
   "source": [
    "df=myvar3.all().as_dataframe()\n",
    "df=df.dropna(axis=0,subset='Value')"
   ]
  },
  {
   "cell_type": "code",
   "execution_count": null,
   "id": "41a7ac87-5aaf-4ff6-b8c9-d27f31a2f66f",
   "metadata": {},
   "outputs": [],
   "source": [
    "xyzs=myvar3.ijks_to_positions([df.I,df.J])\n",
    "df['X']=xyzs[0]\n",
    "df['Y']=xyzs[1]\n",
    "df['Z']=xyzs[2]"
   ]
  },
  {
   "cell_type": "code",
   "execution_count": null,
   "id": "318bb3c1-a893-46da-ac63-695e1d3360e7",
   "metadata": {},
   "outputs": [],
   "source": [
    "i_step=myvar3.retrieve_stats().get('Inline interval')\n",
    "print('Inline interval is '+i_step)\n",
    "x_step=myvar3.retrieve_stats().get('Crossline interval')\n",
    "print('Crossline interval is '+x_step)"
   ]
  },
  {
   "cell_type": "code",
   "execution_count": null,
   "id": "18ff5e79-b21c-42ae-9a93-5f606a1bdc94",
   "metadata": {},
   "outputs": [],
   "source": [
    "gdf = gpd.GeoDataFrame(df, geometry=gpd.points_from_xy(x=df['X'], y=df['Y'],crs=\"EPSG:23031\"))"
   ]
  },
  {
   "cell_type": "code",
   "execution_count": null,
   "id": "8b8f2d9e-c3c9-43ad-a45b-bfd0c0d63ef3",
   "metadata": {},
   "outputs": [],
   "source": [
    "horizon=make_geocube(gdf,measurements=[\"Value\"],resolution=(i_step,x_step))"
   ]
  },
  {
   "cell_type": "code",
   "execution_count": null,
   "id": "c0aaedfe-c980-452b-91cc-770819a43910",
   "metadata": {},
   "outputs": [],
   "source": [
    "filename=var.petrel_name+'_'+myvar2.petrel_name+'_'+myvar3.petrel_name"
   ]
  },
  {
   "cell_type": "code",
   "execution_count": null,
   "id": "8ec348da-3ec9-4f9f-86ee-cddf53a90c4b",
   "metadata": {},
   "outputs": [],
   "source": [
    "horizon.Value.rio.to_raster('D:\\Data\\PTP_CRS\\\\'+filename+'.tif')"
   ]
  }
 ],
 "metadata": {
  "kernelspec": {
   "display_name": "Python 3 (ipykernel)",
   "language": "python",
   "name": "python3"
  },
  "language_info": {
   "codemirror_mode": {
    "name": "ipython",
    "version": 3
   },
   "file_extension": ".py",
   "mimetype": "text/x-python",
   "name": "python",
   "nbconvert_exporter": "python",
   "pygments_lexer": "ipython3",
   "version": "3.9.13"
  }
 },
 "nbformat": 4,
 "nbformat_minor": 5
}
